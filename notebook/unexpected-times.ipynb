{
 "cells": [
  {
   "cell_type": "markdown",
   "metadata": {},
   "source": [
    "# Unexpected Times"
   ]
  },
  {
   "cell_type": "markdown",
   "metadata": {},
   "source": [
    "## Summary"
   ]
  },
  {
   "cell_type": "markdown",
   "metadata": {},
   "source": [
    "Data of each channel was expected to be a continuous acquisition but instead it consists of a Stream with 225 traces with following annotations:\n",
    "- All traces has `starttime: 2019-12-11T03:00:00.000000Z`\n",
    "- First 224 traces are 16-seconds long with `endtime: 2019-12-11T03:00:15.996000Z`\n",
    "- Last trace has `endtime: 2019-12-11T03:00:10.996000Z`\n",
    "\n",
    "We're assuming data of each channel is in fact a continuous acquisition with wrong timing considering data was supposed to be one-hour long and summing durations of traces turns out to be around one hour (59:54.996 mm:ss:sss). This assumption is base for resorting data in [preview](./data-preview.ipynb)."
   ]
  },
  {
   "cell_type": "markdown",
   "metadata": {},
   "source": [
    "## Reading"
   ]
  },
  {
   "cell_type": "code",
   "execution_count": 1,
   "metadata": {},
   "outputs": [],
   "source": [
    "import os\n",
    "import sys\n",
    "\n",
    "sys.path.insert(0, os.path.abspath('../src'))\n",
    "\n",
    "import reader"
   ]
  },
  {
   "cell_type": "markdown",
   "metadata": {},
   "source": [
    "Acquisition channels to read and work with:"
   ]
  },
  {
   "cell_type": "code",
   "execution_count": 2,
   "metadata": {},
   "outputs": [],
   "source": [
    "channels = ['EHE', 'EHN', 'EHZ']"
   ]
  },
  {
   "cell_type": "code",
   "execution_count": 3,
   "metadata": {},
   "outputs": [],
   "source": [
    "datalist = [(channel, f'2019345_030000_{channel}.msd') for channel in channels]\n",
    "data = reader.read_data(datalist)"
   ]
  },
  {
   "cell_type": "markdown",
   "metadata": {},
   "source": [
    "## Description of Streams"
   ]
  },
  {
   "cell_type": "code",
   "execution_count": 4,
   "metadata": {},
   "outputs": [
    {
     "name": "stdout",
     "output_type": "stream",
     "text": [
      "\n",
      "Channel: EHE\n",
      "\tNumber of traces: 225\n",
      "\tUnique set of starttime: {'2019-12-11T03:00:00.000000Z'}\n",
      "\tUnique set of endtime: {'2019-12-11T03:00:15.996000Z', '2019-12-11T03:00:10.996000Z'}\n",
      "        \n",
      "\n",
      "Channel: EHN\n",
      "\tNumber of traces: 225\n",
      "\tUnique set of starttime: {'2019-12-11T03:00:00.000000Z'}\n",
      "\tUnique set of endtime: {'2019-12-11T03:00:15.996000Z', '2019-12-11T03:00:10.996000Z'}\n",
      "        \n",
      "\n",
      "Channel: EHZ\n",
      "\tNumber of traces: 225\n",
      "\tUnique set of starttime: {'2019-12-11T03:00:00.000000Z'}\n",
      "\tUnique set of endtime: {'2019-12-11T03:00:15.996000Z', '2019-12-11T03:00:10.996000Z'}\n",
      "        \n"
     ]
    }
   ],
   "source": [
    "for channel in channels:\n",
    "    st = data[channel]['st']\n",
    "    starttime = set([str(tr.stats.starttime) for tr in st])\n",
    "    endtime = set([str(tr.stats.endtime) for tr in st])\n",
    "    print(f\"\"\"\n",
    "        \\rChannel: {channel}\n",
    "        \\r\\tNumber of traces: {len(st)}\n",
    "        \\r\\tUnique set of starttime: {starttime}\n",
    "        \\r\\tUnique set of endtime: {endtime}\n",
    "        \"\"\"\n",
    "          )\n",
    "        "
   ]
  }
 ],
 "metadata": {
  "kernelspec": {
   "display_name": "Python 3",
   "language": "python",
   "name": "python3"
  },
  "language_info": {
   "codemirror_mode": {
    "name": "ipython",
    "version": 3
   },
   "file_extension": ".py",
   "mimetype": "text/x-python",
   "name": "python",
   "nbconvert_exporter": "python",
   "pygments_lexer": "ipython3",
   "version": "3.7.4"
  }
 },
 "nbformat": 4,
 "nbformat_minor": 4
}
